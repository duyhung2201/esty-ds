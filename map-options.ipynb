{
 "cells": [
  {
   "cell_type": "code",
   "execution_count": null,
   "metadata": {},
   "outputs": [],
   "source": [
    "import ast\n",
    "import pandas as pd\n",
    "import json"
   ]
  },
  {
   "cell_type": "code",
   "execution_count": 1,
   "metadata": {},
   "outputs": [
    {
     "data": {
      "text/plain": [
       "211"
      ]
     },
     "execution_count": 1,
     "metadata": {},
     "output_type": "execute_result"
    }
   ],
   "source": [
    "df = pd.read_csv('Test_Profile.csv', encoding='utf-8')\n",
    "df.head()\n",
    "\n",
    "with open(\"question.json\", \"r\") as file:\n",
    "    map_options = json.load(file)\n",
    "\n",
    "# Take the first row of the dataframe as an example\n",
    "row = df.iloc[0]\n",
    "\n",
    "personality = {}\n",
    "# Map index to answer\n",
    "personality_array = ast.literal_eval(row[\"personality\"])\n",
    "personalityChoices = map_options[\"personalityChoices\"]\n",
    "for idx, ans in enumerate(personality_array):\n",
    "    question = map_options[\"personality\"][idx]\n",
    "    personality[question] = personalityChoices[ans - 1]\n",
    "\n",
    "personality_array2 = ast.literal_eval(row[\"personality2\"])\n",
    "for idx, ans in enumerate(personality_array2):\n",
    "    question = map_options[\"multipleQuestions\"][idx]\n",
    "    choices = map_options[\"multipleChoices\"][idx]\n",
    "    personality[question] = choices[ans - 1]\n",
    "\n",
    "personality_array3 = ast.literal_eval(row[\"personality3\"])\n",
    "for idx, ans in enumerate(personality_array3):\n",
    "    question = map_options[\"openQuestions\"][idx]\n",
    "    personality[question] = ans\n",
    "\n",
    "columns_to_remove = ['imgs', 'chatId', 'fcmToken', '__v', 'privateNote', 'personality', 'personality2', 'personality3']\n",
    "row = row.drop(columns_to_remove)\n",
    "\n",
    "row.index = row.index.str.replace('location.lat', 'location latitude')\n",
    "row.index = row.index.str.replace('location.lng', 'location longitude')\n",
    "row.index = row.index.str.replace('recomPreferences.', 'recommendations preferences ')\n",
    "\n",
    "\n",
    "row.index = row.index.str.replace(r'(?<!^)(?=[A-Z])', ' ', regex=True).str.lower()\n",
    "\n",
    "row_dict = row.to_dict()\n",
    "row_dict.update(personality)\n",
    "with open('row_dict.json', 'w') as file:\n",
    "    json.dump(row_dict, file)"
   ]
  }
 ],
 "metadata": {
  "kernelspec": {
   "display_name": "ift6758-hw-conda-env",
   "language": "python",
   "name": "python3"
  },
  "language_info": {
   "codemirror_mode": {
    "name": "ipython",
    "version": 3
   },
   "file_extension": ".py",
   "mimetype": "text/x-python",
   "name": "python",
   "nbconvert_exporter": "python",
   "pygments_lexer": "ipython3",
   "version": "3.11.6"
  }
 },
 "nbformat": 4,
 "nbformat_minor": 2
}
